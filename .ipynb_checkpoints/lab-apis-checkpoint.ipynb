{
 "cells": [
  {
   "cell_type": "markdown",
   "id": "27422808-8a16-4be1-897f-57b379af8991",
   "metadata": {},
   "source": [
    "# Lab | APIs"
   ]
  },
  {
   "cell_type": "markdown",
   "id": "50f30950-3e31-499a-92ea-1535422c570b",
   "metadata": {},
   "source": [
    "In order to use the `Spotify` API (`SpotiPy`), create an account in `Spotify` and follow [these](https://developer.spotify.com/documentation/general/guides/app-settings/) steps. "
   ]
  },
  {
   "cell_type": "markdown",
   "id": "a0479b95-6ca5-415e-b894-1f5cb17b055b",
   "metadata": {},
   "source": [
    "## Authentication and initializing the API"
   ]
  },
  {
   "cell_type": "markdown",
   "id": "47d71611-c617-4972-a0c3-7090c24b399c",
   "metadata": {},
   "source": [
    "Save your client ID and your client secret in your preferred way, and read it or load it into the following variables:"
   ]
  },
  {
   "cell_type": "code",
   "execution_count": 5,
   "id": "10d85e73",
   "metadata": {},
   "outputs": [],
   "source": [
    "from credentials import CLIENT_SECRET , CLIENT_ID"
   ]
  },
  {
   "cell_type": "code",
   "execution_count": 6,
   "id": "ea44c82a-5c07-4dbc-beb2-bba2601bb75e",
   "metadata": {},
   "outputs": [],
   "source": [
    "CLIENT_ID_x = \"<introduce your client id>\"\n",
    "CLIENT_SECRET_x = \"<introduce your client secret>\"\n",
    "\n",
    "#no es una buena práctica... estarán en un nuevo doc que vamos a importar"
   ]
  },
  {
   "cell_type": "code",
   "execution_count": 7,
   "id": "71c76632",
   "metadata": {},
   "outputs": [],
   "source": [
    "CLIENT_ID = CLIENT_ID\n",
    "CLIENT_SECRET = CLIENT_SECRET\n",
    "\n",
    "#no es una buena práctica... estarán en un nuevo doc que vamos a importar"
   ]
  },
  {
   "cell_type": "code",
   "execution_count": 8,
   "id": "04e12954-fd70-4311-88a5-fb7e2c29799c",
   "metadata": {},
   "outputs": [
    {
     "name": "stdout",
     "output_type": "stream",
     "text": [
      "Requirement already satisfied: spotipy in /opt/anaconda3/lib/python3.11/site-packages (2.24.0)\n",
      "Requirement already satisfied: redis>=3.5.3 in /opt/anaconda3/lib/python3.11/site-packages (from spotipy) (5.0.7)\n",
      "Requirement already satisfied: requests>=2.25.0 in /opt/anaconda3/lib/python3.11/site-packages (from spotipy) (2.31.0)\n",
      "Requirement already satisfied: urllib3>=1.26.0 in /opt/anaconda3/lib/python3.11/site-packages (from spotipy) (2.0.7)\n",
      "Requirement already satisfied: charset-normalizer<4,>=2 in /opt/anaconda3/lib/python3.11/site-packages (from requests>=2.25.0->spotipy) (2.0.4)\n",
      "Requirement already satisfied: idna<4,>=2.5 in /opt/anaconda3/lib/python3.11/site-packages (from requests>=2.25.0->spotipy) (3.4)\n",
      "Requirement already satisfied: certifi>=2017.4.17 in /opt/anaconda3/lib/python3.11/site-packages (from requests>=2.25.0->spotipy) (2024.6.2)\n"
     ]
    }
   ],
   "source": [
    "# If you havent done so, install the spotipy wrapper\n",
    "!pip install spotipy"
   ]
  },
  {
   "cell_type": "markdown",
   "id": "dc0e86da-8846-4207-84c3-cd20b9e01d0e",
   "metadata": {},
   "source": [
    "Once you have done it, we will start initializing the API."
   ]
  },
  {
   "cell_type": "code",
   "execution_count": 9,
   "id": "03034bc6-9858-412a-83b7-18abdc345d7e",
   "metadata": {},
   "outputs": [],
   "source": [
    "import spotipy\n",
    "from spotipy.oauth2 import SpotifyClientCredentials\n",
    "\n",
    "#Initialize SpotiPy with user credentials; \n",
    "#Si fuera otra página, esta inicialización debería estar dentro de la documentación\n",
    "\n",
    "sp = spotipy.Spotify(auth_manager=SpotifyClientCredentials(client_id=CLIENT_ID,\n",
    "                                                           client_secret=CLIENT_SECRET))\n"
   ]
  },
  {
   "cell_type": "markdown",
   "id": "8fed9628-08d7-4290-a4be-5527696b01c5",
   "metadata": {},
   "source": [
    "## Using the search method"
   ]
  },
  {
   "cell_type": "markdown",
   "id": "6575a3c6-f25a-4905-b1f3-c0efd50dcc1e",
   "metadata": {},
   "source": [
    "Now, let's use the search method by introducing a \"query\". For example, let's try searching for \"Lady Gaga\":"
   ]
  },
  {
   "cell_type": "code",
   "execution_count": null,
   "id": "7772a1e0-9692-4d04-a590-76111a272d8d",
   "metadata": {
    "tags": []
   },
   "outputs": [],
   "source": [
    "results = sp.search(q='Lady Gaga', limit=50)\n",
    "results"
   ]
  },
  {
   "cell_type": "code",
   "execution_count": null,
   "id": "edc14c95-474b-4e2a-aea3-bdfd0a205546",
   "metadata": {},
   "outputs": [],
   "source": [
    "results.keys() # We can see that we only have tracks"
   ]
  },
  {
   "cell_type": "code",
   "execution_count": null,
   "id": "ad8ef934-1dbb-4008-ac8e-f5c29823fe6a",
   "metadata": {},
   "outputs": [],
   "source": [
    "results[\"tracks\"].keys() # Let's check the values"
   ]
  },
  {
   "cell_type": "code",
   "execution_count": null,
   "id": "004b7814-4dd5-408e-b7ba-1da87f9250cb",
   "metadata": {},
   "outputs": [],
   "source": [
    "results[\"tracks\"][\"href\"] # Query we have searched "
   ]
  },
  {
   "cell_type": "code",
   "execution_count": null,
   "id": "7285cedd-fbe1-47cf-98d5-a7fdc3e5c8b8",
   "metadata": {
    "scrolled": true,
    "tags": []
   },
   "outputs": [],
   "source": [
    "results[\"tracks\"][\"items\"] #items (actual tracks)"
   ]
  },
  {
   "cell_type": "code",
   "execution_count": null,
   "id": "4630f386",
   "metadata": {
    "scrolled": true
   },
   "outputs": [],
   "source": [
    "results[\"tracks\"][\"items\"][0].keys()"
   ]
  },
  {
   "cell_type": "code",
   "execution_count": null,
   "id": "c001872d",
   "metadata": {
    "scrolled": true
   },
   "outputs": [],
   "source": [
    "len(results[\"tracks\"][\"items\"])"
   ]
  },
  {
   "cell_type": "code",
   "execution_count": null,
   "id": "869ab6a6",
   "metadata": {
    "scrolled": false
   },
   "outputs": [],
   "source": [
    "results[\"tracks\"][\"items\"][49]  #1st Jason"
   ]
  },
  {
   "cell_type": "code",
   "execution_count": null,
   "id": "529fff56-47d3-4d78-8ff5-9530fe290d1d",
   "metadata": {},
   "outputs": [],
   "source": [
    "results[\"tracks\"][\"limit\"] #Limit we have chosen"
   ]
  },
  {
   "cell_type": "code",
   "execution_count": null,
   "id": "92c64c57-3bd2-4d42-bbd1-84a040f1e02a",
   "metadata": {},
   "outputs": [],
   "source": [
    "results[\"tracks\"][\"next\"] #link to the next page (next 50 tracks)"
   ]
  },
  {
   "cell_type": "code",
   "execution_count": null,
   "id": "f5ccdf79-5d9e-40de-adb9-2cc1e5b7c74a",
   "metadata": {
    "tags": []
   },
   "outputs": [],
   "source": [
    "results[\"tracks\"][\"offset\"] # Actual offset (starting point)"
   ]
  },
  {
   "cell_type": "code",
   "execution_count": null,
   "id": "356730c1-60a2-4ea8-bd2c-e0522bab8a4d",
   "metadata": {},
   "outputs": [],
   "source": [
    "results[\"tracks\"][\"previous\"] #Previous search"
   ]
  },
  {
   "cell_type": "code",
   "execution_count": null,
   "id": "58c09d41",
   "metadata": {},
   "outputs": [],
   "source": [
    "type(results[\"tracks\"][\"previous\"]) #Previous search"
   ]
  },
  {
   "cell_type": "code",
   "execution_count": null,
   "id": "7c44c8fd-63ea-45ba-94bd-5c5e8e1458b3",
   "metadata": {},
   "outputs": [],
   "source": [
    "results[\"tracks\"][\"total\"] # Number of matches"
   ]
  },
  {
   "cell_type": "code",
   "execution_count": null,
   "id": "5a723aa3",
   "metadata": {},
   "outputs": [],
   "source": [
    "type(results[\"tracks\"][\"total\"])"
   ]
  },
  {
   "cell_type": "markdown",
   "id": "7a127c64-3274-4ecc-aa0f-83ae34af4655",
   "metadata": {},
   "source": [
    "## Exploring the tracks"
   ]
  },
  {
   "cell_type": "code",
   "execution_count": 10,
   "id": "99aa21aa",
   "metadata": {},
   "outputs": [
    {
     "data": {
      "text/plain": [
       "{'tracks': {'href': 'https://api.spotify.com/v1/search?query=Deborah+de+Luca&type=track&offset=0&limit=1',\n",
       "  'items': [{'album': {'album_type': 'single',\n",
       "     'artists': [{'external_urls': {'spotify': 'https://open.spotify.com/artist/144HzhpLjcR9k37w5Ico9B'},\n",
       "       'href': 'https://api.spotify.com/v1/artists/144HzhpLjcR9k37w5Ico9B',\n",
       "       'id': '144HzhpLjcR9k37w5Ico9B',\n",
       "       'name': 'Deborah de Luca',\n",
       "       'type': 'artist',\n",
       "       'uri': 'spotify:artist:144HzhpLjcR9k37w5Ico9B'},\n",
       "      {'external_urls': {'spotify': 'https://open.spotify.com/artist/2YVF0Ou5zIc4mpgtLIlGN0'},\n",
       "       'href': 'https://api.spotify.com/v1/artists/2YVF0Ou5zIc4mpgtLIlGN0',\n",
       "       'id': '2YVF0Ou5zIc4mpgtLIlGN0',\n",
       "       'name': 'Robert Miles',\n",
       "       'type': 'artist',\n",
       "       'uri': 'spotify:artist:2YVF0Ou5zIc4mpgtLIlGN0'}],\n",
       "     'available_markets': ['AR',\n",
       "      'AT',\n",
       "      'BE',\n",
       "      'BO',\n",
       "      'BR',\n",
       "      'BG',\n",
       "      'CA',\n",
       "      'CL',\n",
       "      'CO',\n",
       "      'CR',\n",
       "      'CY',\n",
       "      'CZ',\n",
       "      'DK',\n",
       "      'DO',\n",
       "      'DE',\n",
       "      'EC',\n",
       "      'EE',\n",
       "      'SV',\n",
       "      'FI',\n",
       "      'FR',\n",
       "      'GR',\n",
       "      'GT',\n",
       "      'HN',\n",
       "      'HK',\n",
       "      'HU',\n",
       "      'IS',\n",
       "      'IE',\n",
       "      'IT',\n",
       "      'LV',\n",
       "      'LT',\n",
       "      'LU',\n",
       "      'MY',\n",
       "      'MT',\n",
       "      'MX',\n",
       "      'NL',\n",
       "      'NI',\n",
       "      'NO',\n",
       "      'PA',\n",
       "      'PY',\n",
       "      'PE',\n",
       "      'PH',\n",
       "      'PL',\n",
       "      'PT',\n",
       "      'SG',\n",
       "      'SK',\n",
       "      'ES',\n",
       "      'SE',\n",
       "      'CH',\n",
       "      'TW',\n",
       "      'TR',\n",
       "      'UY',\n",
       "      'US',\n",
       "      'GB',\n",
       "      'AD',\n",
       "      'LI',\n",
       "      'MC',\n",
       "      'ID',\n",
       "      'JP',\n",
       "      'TH',\n",
       "      'VN',\n",
       "      'RO',\n",
       "      'IL',\n",
       "      'ZA',\n",
       "      'SA',\n",
       "      'AE',\n",
       "      'BH',\n",
       "      'QA',\n",
       "      'OM',\n",
       "      'KW',\n",
       "      'EG',\n",
       "      'MA',\n",
       "      'DZ',\n",
       "      'TN',\n",
       "      'LB',\n",
       "      'JO',\n",
       "      'PS',\n",
       "      'IN',\n",
       "      'BY',\n",
       "      'KZ',\n",
       "      'MD',\n",
       "      'UA',\n",
       "      'AL',\n",
       "      'BA',\n",
       "      'HR',\n",
       "      'ME',\n",
       "      'MK',\n",
       "      'RS',\n",
       "      'SI',\n",
       "      'KR',\n",
       "      'BD',\n",
       "      'PK',\n",
       "      'LK',\n",
       "      'GH',\n",
       "      'KE',\n",
       "      'NG',\n",
       "      'TZ',\n",
       "      'UG',\n",
       "      'AG',\n",
       "      'AM',\n",
       "      'BS',\n",
       "      'BB',\n",
       "      'BZ',\n",
       "      'BT',\n",
       "      'BW',\n",
       "      'BF',\n",
       "      'CV',\n",
       "      'CW',\n",
       "      'DM',\n",
       "      'FJ',\n",
       "      'GM',\n",
       "      'GE',\n",
       "      'GD',\n",
       "      'GW',\n",
       "      'GY',\n",
       "      'HT',\n",
       "      'JM',\n",
       "      'KI',\n",
       "      'LS',\n",
       "      'LR',\n",
       "      'MW',\n",
       "      'MV',\n",
       "      'ML',\n",
       "      'MH',\n",
       "      'FM',\n",
       "      'NA',\n",
       "      'NR',\n",
       "      'NE',\n",
       "      'PW',\n",
       "      'PG',\n",
       "      'PR',\n",
       "      'WS',\n",
       "      'SM',\n",
       "      'ST',\n",
       "      'SN',\n",
       "      'SC',\n",
       "      'SL',\n",
       "      'SB',\n",
       "      'KN',\n",
       "      'LC',\n",
       "      'VC',\n",
       "      'SR',\n",
       "      'TL',\n",
       "      'TO',\n",
       "      'TT',\n",
       "      'TV',\n",
       "      'VU',\n",
       "      'AZ',\n",
       "      'BN',\n",
       "      'BI',\n",
       "      'KH',\n",
       "      'CM',\n",
       "      'TD',\n",
       "      'KM',\n",
       "      'GQ',\n",
       "      'SZ',\n",
       "      'GA',\n",
       "      'GN',\n",
       "      'KG',\n",
       "      'LA',\n",
       "      'MO',\n",
       "      'MR',\n",
       "      'MN',\n",
       "      'NP',\n",
       "      'RW',\n",
       "      'TG',\n",
       "      'UZ',\n",
       "      'ZW',\n",
       "      'BJ',\n",
       "      'MG',\n",
       "      'MU',\n",
       "      'MZ',\n",
       "      'AO',\n",
       "      'CI',\n",
       "      'DJ',\n",
       "      'ZM',\n",
       "      'CD',\n",
       "      'CG',\n",
       "      'IQ',\n",
       "      'LY',\n",
       "      'TJ',\n",
       "      'VE',\n",
       "      'ET',\n",
       "      'XK'],\n",
       "     'external_urls': {'spotify': 'https://open.spotify.com/album/4pAD0l5icphM5TC1A4q8Yn'},\n",
       "     'href': 'https://api.spotify.com/v1/albums/4pAD0l5icphM5TC1A4q8Yn',\n",
       "     'id': '4pAD0l5icphM5TC1A4q8Yn',\n",
       "     'images': [{'height': 640,\n",
       "       'url': 'https://i.scdn.co/image/ab67616d0000b2739aab7c7d945f5fb102177257',\n",
       "       'width': 640},\n",
       "      {'height': 300,\n",
       "       'url': 'https://i.scdn.co/image/ab67616d00001e029aab7c7d945f5fb102177257',\n",
       "       'width': 300},\n",
       "      {'height': 64,\n",
       "       'url': 'https://i.scdn.co/image/ab67616d000048519aab7c7d945f5fb102177257',\n",
       "       'width': 64}],\n",
       "     'name': 'Children',\n",
       "     'release_date': '2022-07-15',\n",
       "     'release_date_precision': 'day',\n",
       "     'total_tracks': 2,\n",
       "     'type': 'album',\n",
       "     'uri': 'spotify:album:4pAD0l5icphM5TC1A4q8Yn'},\n",
       "    'artists': [{'external_urls': {'spotify': 'https://open.spotify.com/artist/144HzhpLjcR9k37w5Ico9B'},\n",
       "      'href': 'https://api.spotify.com/v1/artists/144HzhpLjcR9k37w5Ico9B',\n",
       "      'id': '144HzhpLjcR9k37w5Ico9B',\n",
       "      'name': 'Deborah de Luca',\n",
       "      'type': 'artist',\n",
       "      'uri': 'spotify:artist:144HzhpLjcR9k37w5Ico9B'},\n",
       "     {'external_urls': {'spotify': 'https://open.spotify.com/artist/2YVF0Ou5zIc4mpgtLIlGN0'},\n",
       "      'href': 'https://api.spotify.com/v1/artists/2YVF0Ou5zIc4mpgtLIlGN0',\n",
       "      'id': '2YVF0Ou5zIc4mpgtLIlGN0',\n",
       "      'name': 'Robert Miles',\n",
       "      'type': 'artist',\n",
       "      'uri': 'spotify:artist:2YVF0Ou5zIc4mpgtLIlGN0'}],\n",
       "    'available_markets': ['AR',\n",
       "     'AT',\n",
       "     'BE',\n",
       "     'BO',\n",
       "     'BR',\n",
       "     'BG',\n",
       "     'CA',\n",
       "     'CL',\n",
       "     'CO',\n",
       "     'CR',\n",
       "     'CY',\n",
       "     'CZ',\n",
       "     'DK',\n",
       "     'DO',\n",
       "     'DE',\n",
       "     'EC',\n",
       "     'EE',\n",
       "     'SV',\n",
       "     'FI',\n",
       "     'FR',\n",
       "     'GR',\n",
       "     'GT',\n",
       "     'HN',\n",
       "     'HK',\n",
       "     'HU',\n",
       "     'IS',\n",
       "     'IE',\n",
       "     'IT',\n",
       "     'LV',\n",
       "     'LT',\n",
       "     'LU',\n",
       "     'MY',\n",
       "     'MT',\n",
       "     'MX',\n",
       "     'NL',\n",
       "     'NI',\n",
       "     'NO',\n",
       "     'PA',\n",
       "     'PY',\n",
       "     'PE',\n",
       "     'PH',\n",
       "     'PL',\n",
       "     'PT',\n",
       "     'SG',\n",
       "     'SK',\n",
       "     'ES',\n",
       "     'SE',\n",
       "     'CH',\n",
       "     'TW',\n",
       "     'TR',\n",
       "     'UY',\n",
       "     'US',\n",
       "     'GB',\n",
       "     'AD',\n",
       "     'LI',\n",
       "     'MC',\n",
       "     'ID',\n",
       "     'JP',\n",
       "     'TH',\n",
       "     'VN',\n",
       "     'RO',\n",
       "     'IL',\n",
       "     'ZA',\n",
       "     'SA',\n",
       "     'AE',\n",
       "     'BH',\n",
       "     'QA',\n",
       "     'OM',\n",
       "     'KW',\n",
       "     'EG',\n",
       "     'MA',\n",
       "     'DZ',\n",
       "     'TN',\n",
       "     'LB',\n",
       "     'JO',\n",
       "     'PS',\n",
       "     'IN',\n",
       "     'BY',\n",
       "     'KZ',\n",
       "     'MD',\n",
       "     'UA',\n",
       "     'AL',\n",
       "     'BA',\n",
       "     'HR',\n",
       "     'ME',\n",
       "     'MK',\n",
       "     'RS',\n",
       "     'SI',\n",
       "     'KR',\n",
       "     'BD',\n",
       "     'PK',\n",
       "     'LK',\n",
       "     'GH',\n",
       "     'KE',\n",
       "     'NG',\n",
       "     'TZ',\n",
       "     'UG',\n",
       "     'AG',\n",
       "     'AM',\n",
       "     'BS',\n",
       "     'BB',\n",
       "     'BZ',\n",
       "     'BT',\n",
       "     'BW',\n",
       "     'BF',\n",
       "     'CV',\n",
       "     'CW',\n",
       "     'DM',\n",
       "     'FJ',\n",
       "     'GM',\n",
       "     'GE',\n",
       "     'GD',\n",
       "     'GW',\n",
       "     'GY',\n",
       "     'HT',\n",
       "     'JM',\n",
       "     'KI',\n",
       "     'LS',\n",
       "     'LR',\n",
       "     'MW',\n",
       "     'MV',\n",
       "     'ML',\n",
       "     'MH',\n",
       "     'FM',\n",
       "     'NA',\n",
       "     'NR',\n",
       "     'NE',\n",
       "     'PW',\n",
       "     'PG',\n",
       "     'PR',\n",
       "     'WS',\n",
       "     'SM',\n",
       "     'ST',\n",
       "     'SN',\n",
       "     'SC',\n",
       "     'SL',\n",
       "     'SB',\n",
       "     'KN',\n",
       "     'LC',\n",
       "     'VC',\n",
       "     'SR',\n",
       "     'TL',\n",
       "     'TO',\n",
       "     'TT',\n",
       "     'TV',\n",
       "     'VU',\n",
       "     'AZ',\n",
       "     'BN',\n",
       "     'BI',\n",
       "     'KH',\n",
       "     'CM',\n",
       "     'TD',\n",
       "     'KM',\n",
       "     'GQ',\n",
       "     'SZ',\n",
       "     'GA',\n",
       "     'GN',\n",
       "     'KG',\n",
       "     'LA',\n",
       "     'MO',\n",
       "     'MR',\n",
       "     'MN',\n",
       "     'NP',\n",
       "     'RW',\n",
       "     'TG',\n",
       "     'UZ',\n",
       "     'ZW',\n",
       "     'BJ',\n",
       "     'MG',\n",
       "     'MU',\n",
       "     'MZ',\n",
       "     'AO',\n",
       "     'CI',\n",
       "     'DJ',\n",
       "     'ZM',\n",
       "     'CD',\n",
       "     'CG',\n",
       "     'IQ',\n",
       "     'LY',\n",
       "     'TJ',\n",
       "     'VE',\n",
       "     'ET',\n",
       "     'XK'],\n",
       "    'disc_number': 1,\n",
       "    'duration_ms': 206222,\n",
       "    'explicit': False,\n",
       "    'external_ids': {'isrc': 'ITJ872200372'},\n",
       "    'external_urls': {'spotify': 'https://open.spotify.com/track/7Bg90Jhm3Dhtu7m2YCpo6C'},\n",
       "    'href': 'https://api.spotify.com/v1/tracks/7Bg90Jhm3Dhtu7m2YCpo6C',\n",
       "    'id': '7Bg90Jhm3Dhtu7m2YCpo6C',\n",
       "    'is_local': False,\n",
       "    'name': 'Children - Radio Edit',\n",
       "    'popularity': 59,\n",
       "    'preview_url': 'https://p.scdn.co/mp3-preview/c935a0493db043cb5e4702ffa1044bc1ce4845bf?cid=3c3a6a583dd34c6da4007086a855c174',\n",
       "    'track_number': 1,\n",
       "    'type': 'track',\n",
       "    'uri': 'spotify:track:7Bg90Jhm3Dhtu7m2YCpo6C'}],\n",
       "  'limit': 1,\n",
       "  'next': 'https://api.spotify.com/v1/search?query=Deborah+de+Luca&type=track&offset=1&limit=1',\n",
       "  'offset': 0,\n",
       "  'previous': None,\n",
       "  'total': 899}}"
      ]
     },
     "execution_count": 10,
     "metadata": {},
     "output_type": "execute_result"
    }
   ],
   "source": [
    "results_V = sp.search(q='Deborah de Luca', limit=1)\n",
    "results_V"
   ]
  },
  {
   "cell_type": "code",
   "execution_count": 11,
   "id": "6c3541a2-0fd2-41e0-9b27-60a7dc36c4cb",
   "metadata": {
    "scrolled": false,
    "tags": []
   },
   "outputs": [
    {
     "data": {
      "text/plain": [
       "{'album': {'album_type': 'single',\n",
       "  'artists': [{'external_urls': {'spotify': 'https://open.spotify.com/artist/144HzhpLjcR9k37w5Ico9B'},\n",
       "    'href': 'https://api.spotify.com/v1/artists/144HzhpLjcR9k37w5Ico9B',\n",
       "    'id': '144HzhpLjcR9k37w5Ico9B',\n",
       "    'name': 'Deborah de Luca',\n",
       "    'type': 'artist',\n",
       "    'uri': 'spotify:artist:144HzhpLjcR9k37w5Ico9B'},\n",
       "   {'external_urls': {'spotify': 'https://open.spotify.com/artist/2YVF0Ou5zIc4mpgtLIlGN0'},\n",
       "    'href': 'https://api.spotify.com/v1/artists/2YVF0Ou5zIc4mpgtLIlGN0',\n",
       "    'id': '2YVF0Ou5zIc4mpgtLIlGN0',\n",
       "    'name': 'Robert Miles',\n",
       "    'type': 'artist',\n",
       "    'uri': 'spotify:artist:2YVF0Ou5zIc4mpgtLIlGN0'}],\n",
       "  'available_markets': ['AR',\n",
       "   'AT',\n",
       "   'BE',\n",
       "   'BO',\n",
       "   'BR',\n",
       "   'BG',\n",
       "   'CA',\n",
       "   'CL',\n",
       "   'CO',\n",
       "   'CR',\n",
       "   'CY',\n",
       "   'CZ',\n",
       "   'DK',\n",
       "   'DO',\n",
       "   'DE',\n",
       "   'EC',\n",
       "   'EE',\n",
       "   'SV',\n",
       "   'FI',\n",
       "   'FR',\n",
       "   'GR',\n",
       "   'GT',\n",
       "   'HN',\n",
       "   'HK',\n",
       "   'HU',\n",
       "   'IS',\n",
       "   'IE',\n",
       "   'IT',\n",
       "   'LV',\n",
       "   'LT',\n",
       "   'LU',\n",
       "   'MY',\n",
       "   'MT',\n",
       "   'MX',\n",
       "   'NL',\n",
       "   'NI',\n",
       "   'NO',\n",
       "   'PA',\n",
       "   'PY',\n",
       "   'PE',\n",
       "   'PH',\n",
       "   'PL',\n",
       "   'PT',\n",
       "   'SG',\n",
       "   'SK',\n",
       "   'ES',\n",
       "   'SE',\n",
       "   'CH',\n",
       "   'TW',\n",
       "   'TR',\n",
       "   'UY',\n",
       "   'US',\n",
       "   'GB',\n",
       "   'AD',\n",
       "   'LI',\n",
       "   'MC',\n",
       "   'ID',\n",
       "   'JP',\n",
       "   'TH',\n",
       "   'VN',\n",
       "   'RO',\n",
       "   'IL',\n",
       "   'ZA',\n",
       "   'SA',\n",
       "   'AE',\n",
       "   'BH',\n",
       "   'QA',\n",
       "   'OM',\n",
       "   'KW',\n",
       "   'EG',\n",
       "   'MA',\n",
       "   'DZ',\n",
       "   'TN',\n",
       "   'LB',\n",
       "   'JO',\n",
       "   'PS',\n",
       "   'IN',\n",
       "   'BY',\n",
       "   'KZ',\n",
       "   'MD',\n",
       "   'UA',\n",
       "   'AL',\n",
       "   'BA',\n",
       "   'HR',\n",
       "   'ME',\n",
       "   'MK',\n",
       "   'RS',\n",
       "   'SI',\n",
       "   'KR',\n",
       "   'BD',\n",
       "   'PK',\n",
       "   'LK',\n",
       "   'GH',\n",
       "   'KE',\n",
       "   'NG',\n",
       "   'TZ',\n",
       "   'UG',\n",
       "   'AG',\n",
       "   'AM',\n",
       "   'BS',\n",
       "   'BB',\n",
       "   'BZ',\n",
       "   'BT',\n",
       "   'BW',\n",
       "   'BF',\n",
       "   'CV',\n",
       "   'CW',\n",
       "   'DM',\n",
       "   'FJ',\n",
       "   'GM',\n",
       "   'GE',\n",
       "   'GD',\n",
       "   'GW',\n",
       "   'GY',\n",
       "   'HT',\n",
       "   'JM',\n",
       "   'KI',\n",
       "   'LS',\n",
       "   'LR',\n",
       "   'MW',\n",
       "   'MV',\n",
       "   'ML',\n",
       "   'MH',\n",
       "   'FM',\n",
       "   'NA',\n",
       "   'NR',\n",
       "   'NE',\n",
       "   'PW',\n",
       "   'PG',\n",
       "   'PR',\n",
       "   'WS',\n",
       "   'SM',\n",
       "   'ST',\n",
       "   'SN',\n",
       "   'SC',\n",
       "   'SL',\n",
       "   'SB',\n",
       "   'KN',\n",
       "   'LC',\n",
       "   'VC',\n",
       "   'SR',\n",
       "   'TL',\n",
       "   'TO',\n",
       "   'TT',\n",
       "   'TV',\n",
       "   'VU',\n",
       "   'AZ',\n",
       "   'BN',\n",
       "   'BI',\n",
       "   'KH',\n",
       "   'CM',\n",
       "   'TD',\n",
       "   'KM',\n",
       "   'GQ',\n",
       "   'SZ',\n",
       "   'GA',\n",
       "   'GN',\n",
       "   'KG',\n",
       "   'LA',\n",
       "   'MO',\n",
       "   'MR',\n",
       "   'MN',\n",
       "   'NP',\n",
       "   'RW',\n",
       "   'TG',\n",
       "   'UZ',\n",
       "   'ZW',\n",
       "   'BJ',\n",
       "   'MG',\n",
       "   'MU',\n",
       "   'MZ',\n",
       "   'AO',\n",
       "   'CI',\n",
       "   'DJ',\n",
       "   'ZM',\n",
       "   'CD',\n",
       "   'CG',\n",
       "   'IQ',\n",
       "   'LY',\n",
       "   'TJ',\n",
       "   'VE',\n",
       "   'ET',\n",
       "   'XK'],\n",
       "  'external_urls': {'spotify': 'https://open.spotify.com/album/4pAD0l5icphM5TC1A4q8Yn'},\n",
       "  'href': 'https://api.spotify.com/v1/albums/4pAD0l5icphM5TC1A4q8Yn',\n",
       "  'id': '4pAD0l5icphM5TC1A4q8Yn',\n",
       "  'images': [{'height': 640,\n",
       "    'url': 'https://i.scdn.co/image/ab67616d0000b2739aab7c7d945f5fb102177257',\n",
       "    'width': 640},\n",
       "   {'height': 300,\n",
       "    'url': 'https://i.scdn.co/image/ab67616d00001e029aab7c7d945f5fb102177257',\n",
       "    'width': 300},\n",
       "   {'height': 64,\n",
       "    'url': 'https://i.scdn.co/image/ab67616d000048519aab7c7d945f5fb102177257',\n",
       "    'width': 64}],\n",
       "  'name': 'Children',\n",
       "  'release_date': '2022-07-15',\n",
       "  'release_date_precision': 'day',\n",
       "  'total_tracks': 2,\n",
       "  'type': 'album',\n",
       "  'uri': 'spotify:album:4pAD0l5icphM5TC1A4q8Yn'},\n",
       " 'artists': [{'external_urls': {'spotify': 'https://open.spotify.com/artist/144HzhpLjcR9k37w5Ico9B'},\n",
       "   'href': 'https://api.spotify.com/v1/artists/144HzhpLjcR9k37w5Ico9B',\n",
       "   'id': '144HzhpLjcR9k37w5Ico9B',\n",
       "   'name': 'Deborah de Luca',\n",
       "   'type': 'artist',\n",
       "   'uri': 'spotify:artist:144HzhpLjcR9k37w5Ico9B'},\n",
       "  {'external_urls': {'spotify': 'https://open.spotify.com/artist/2YVF0Ou5zIc4mpgtLIlGN0'},\n",
       "   'href': 'https://api.spotify.com/v1/artists/2YVF0Ou5zIc4mpgtLIlGN0',\n",
       "   'id': '2YVF0Ou5zIc4mpgtLIlGN0',\n",
       "   'name': 'Robert Miles',\n",
       "   'type': 'artist',\n",
       "   'uri': 'spotify:artist:2YVF0Ou5zIc4mpgtLIlGN0'}],\n",
       " 'available_markets': ['AR',\n",
       "  'AT',\n",
       "  'BE',\n",
       "  'BO',\n",
       "  'BR',\n",
       "  'BG',\n",
       "  'CA',\n",
       "  'CL',\n",
       "  'CO',\n",
       "  'CR',\n",
       "  'CY',\n",
       "  'CZ',\n",
       "  'DK',\n",
       "  'DO',\n",
       "  'DE',\n",
       "  'EC',\n",
       "  'EE',\n",
       "  'SV',\n",
       "  'FI',\n",
       "  'FR',\n",
       "  'GR',\n",
       "  'GT',\n",
       "  'HN',\n",
       "  'HK',\n",
       "  'HU',\n",
       "  'IS',\n",
       "  'IE',\n",
       "  'IT',\n",
       "  'LV',\n",
       "  'LT',\n",
       "  'LU',\n",
       "  'MY',\n",
       "  'MT',\n",
       "  'MX',\n",
       "  'NL',\n",
       "  'NI',\n",
       "  'NO',\n",
       "  'PA',\n",
       "  'PY',\n",
       "  'PE',\n",
       "  'PH',\n",
       "  'PL',\n",
       "  'PT',\n",
       "  'SG',\n",
       "  'SK',\n",
       "  'ES',\n",
       "  'SE',\n",
       "  'CH',\n",
       "  'TW',\n",
       "  'TR',\n",
       "  'UY',\n",
       "  'US',\n",
       "  'GB',\n",
       "  'AD',\n",
       "  'LI',\n",
       "  'MC',\n",
       "  'ID',\n",
       "  'JP',\n",
       "  'TH',\n",
       "  'VN',\n",
       "  'RO',\n",
       "  'IL',\n",
       "  'ZA',\n",
       "  'SA',\n",
       "  'AE',\n",
       "  'BH',\n",
       "  'QA',\n",
       "  'OM',\n",
       "  'KW',\n",
       "  'EG',\n",
       "  'MA',\n",
       "  'DZ',\n",
       "  'TN',\n",
       "  'LB',\n",
       "  'JO',\n",
       "  'PS',\n",
       "  'IN',\n",
       "  'BY',\n",
       "  'KZ',\n",
       "  'MD',\n",
       "  'UA',\n",
       "  'AL',\n",
       "  'BA',\n",
       "  'HR',\n",
       "  'ME',\n",
       "  'MK',\n",
       "  'RS',\n",
       "  'SI',\n",
       "  'KR',\n",
       "  'BD',\n",
       "  'PK',\n",
       "  'LK',\n",
       "  'GH',\n",
       "  'KE',\n",
       "  'NG',\n",
       "  'TZ',\n",
       "  'UG',\n",
       "  'AG',\n",
       "  'AM',\n",
       "  'BS',\n",
       "  'BB',\n",
       "  'BZ',\n",
       "  'BT',\n",
       "  'BW',\n",
       "  'BF',\n",
       "  'CV',\n",
       "  'CW',\n",
       "  'DM',\n",
       "  'FJ',\n",
       "  'GM',\n",
       "  'GE',\n",
       "  'GD',\n",
       "  'GW',\n",
       "  'GY',\n",
       "  'HT',\n",
       "  'JM',\n",
       "  'KI',\n",
       "  'LS',\n",
       "  'LR',\n",
       "  'MW',\n",
       "  'MV',\n",
       "  'ML',\n",
       "  'MH',\n",
       "  'FM',\n",
       "  'NA',\n",
       "  'NR',\n",
       "  'NE',\n",
       "  'PW',\n",
       "  'PG',\n",
       "  'PR',\n",
       "  'WS',\n",
       "  'SM',\n",
       "  'ST',\n",
       "  'SN',\n",
       "  'SC',\n",
       "  'SL',\n",
       "  'SB',\n",
       "  'KN',\n",
       "  'LC',\n",
       "  'VC',\n",
       "  'SR',\n",
       "  'TL',\n",
       "  'TO',\n",
       "  'TT',\n",
       "  'TV',\n",
       "  'VU',\n",
       "  'AZ',\n",
       "  'BN',\n",
       "  'BI',\n",
       "  'KH',\n",
       "  'CM',\n",
       "  'TD',\n",
       "  'KM',\n",
       "  'GQ',\n",
       "  'SZ',\n",
       "  'GA',\n",
       "  'GN',\n",
       "  'KG',\n",
       "  'LA',\n",
       "  'MO',\n",
       "  'MR',\n",
       "  'MN',\n",
       "  'NP',\n",
       "  'RW',\n",
       "  'TG',\n",
       "  'UZ',\n",
       "  'ZW',\n",
       "  'BJ',\n",
       "  'MG',\n",
       "  'MU',\n",
       "  'MZ',\n",
       "  'AO',\n",
       "  'CI',\n",
       "  'DJ',\n",
       "  'ZM',\n",
       "  'CD',\n",
       "  'CG',\n",
       "  'IQ',\n",
       "  'LY',\n",
       "  'TJ',\n",
       "  'VE',\n",
       "  'ET',\n",
       "  'XK'],\n",
       " 'disc_number': 1,\n",
       " 'duration_ms': 206222,\n",
       " 'explicit': False,\n",
       " 'external_ids': {'isrc': 'ITJ872200372'},\n",
       " 'external_urls': {'spotify': 'https://open.spotify.com/track/7Bg90Jhm3Dhtu7m2YCpo6C'},\n",
       " 'href': 'https://api.spotify.com/v1/tracks/7Bg90Jhm3Dhtu7m2YCpo6C',\n",
       " 'id': '7Bg90Jhm3Dhtu7m2YCpo6C',\n",
       " 'is_local': False,\n",
       " 'name': 'Children - Radio Edit',\n",
       " 'popularity': 59,\n",
       " 'preview_url': 'https://p.scdn.co/mp3-preview/c935a0493db043cb5e4702ffa1044bc1ce4845bf?cid=3c3a6a583dd34c6da4007086a855c174',\n",
       " 'track_number': 1,\n",
       " 'type': 'track',\n",
       " 'uri': 'spotify:track:7Bg90Jhm3Dhtu7m2YCpo6C'}"
      ]
     },
     "execution_count": 11,
     "metadata": {},
     "output_type": "execute_result"
    }
   ],
   "source": [
    "results_V[\"tracks\"][\"items\"][0] # Explore the first song"
   ]
  },
  {
   "cell_type": "code",
   "execution_count": 12,
   "id": "f2c35eb2-3ea6-4329-9f29-7c062f466638",
   "metadata": {},
   "outputs": [
    {
     "data": {
      "text/plain": [
       "dict_keys(['album', 'artists', 'available_markets', 'disc_number', 'duration_ms', 'explicit', 'external_ids', 'external_urls', 'href', 'id', 'is_local', 'name', 'popularity', 'preview_url', 'track_number', 'type', 'uri'])"
      ]
     },
     "execution_count": 12,
     "metadata": {},
     "output_type": "execute_result"
    }
   ],
   "source": [
    "results_V[\"tracks\"][\"items\"][0].keys() # We will focus on album, artists, id, name, popularity, type and uri"
   ]
  },
  {
   "cell_type": "code",
   "execution_count": 13,
   "id": "889ca3c3-b0c8-4037-96fb-6add847f537f",
   "metadata": {
    "scrolled": true
   },
   "outputs": [
    {
     "data": {
      "text/plain": [
       "[{'external_urls': {'spotify': 'https://open.spotify.com/artist/144HzhpLjcR9k37w5Ico9B'},\n",
       "  'href': 'https://api.spotify.com/v1/artists/144HzhpLjcR9k37w5Ico9B',\n",
       "  'id': '144HzhpLjcR9k37w5Ico9B',\n",
       "  'name': 'Deborah de Luca',\n",
       "  'type': 'artist',\n",
       "  'uri': 'spotify:artist:144HzhpLjcR9k37w5Ico9B'},\n",
       " {'external_urls': {'spotify': 'https://open.spotify.com/artist/2YVF0Ou5zIc4mpgtLIlGN0'},\n",
       "  'href': 'https://api.spotify.com/v1/artists/2YVF0Ou5zIc4mpgtLIlGN0',\n",
       "  'id': '2YVF0Ou5zIc4mpgtLIlGN0',\n",
       "  'name': 'Robert Miles',\n",
       "  'type': 'artist',\n",
       "  'uri': 'spotify:artist:2YVF0Ou5zIc4mpgtLIlGN0'}]"
      ]
     },
     "execution_count": 13,
     "metadata": {},
     "output_type": "execute_result"
    }
   ],
   "source": [
    "# Track artists\n",
    "results_V[\"tracks\"][\"items\"][0][\"artists\"]"
   ]
  },
  {
   "cell_type": "code",
   "execution_count": 14,
   "id": "08c2fec9",
   "metadata": {
    "scrolled": true
   },
   "outputs": [
    {
     "data": {
      "text/plain": [
       "{'external_urls': {'spotify': 'https://open.spotify.com/artist/144HzhpLjcR9k37w5Ico9B'},\n",
       " 'href': 'https://api.spotify.com/v1/artists/144HzhpLjcR9k37w5Ico9B',\n",
       " 'id': '144HzhpLjcR9k37w5Ico9B',\n",
       " 'name': 'Deborah de Luca',\n",
       " 'type': 'artist',\n",
       " 'uri': 'spotify:artist:144HzhpLjcR9k37w5Ico9B'}"
      ]
     },
     "execution_count": 14,
     "metadata": {},
     "output_type": "execute_result"
    }
   ],
   "source": [
    "# Track artists\n",
    "results_V[\"tracks\"][\"items\"][0][\"artists\"][0]"
   ]
  },
  {
   "cell_type": "code",
   "execution_count": 15,
   "id": "3b291f30",
   "metadata": {
    "scrolled": false
   },
   "outputs": [
    {
     "data": {
      "text/plain": [
       "'Deborah de Luca'"
      ]
     },
     "execution_count": 15,
     "metadata": {},
     "output_type": "execute_result"
    }
   ],
   "source": [
    "# Track artists\n",
    "results_V[\"tracks\"][\"items\"][0][\"artists\"][0][\"name\"]"
   ]
  },
  {
   "cell_type": "code",
   "execution_count": 16,
   "id": "a9c6a0b2-cea7-48ff-8c51-179d15388aa2",
   "metadata": {},
   "outputs": [
    {
     "name": "stdout",
     "output_type": "stream",
     "text": [
      "Deborah de Luca\n",
      "Robert Miles\n"
     ]
    }
   ],
   "source": [
    "# Track artists names\n",
    "for artist in results_V[\"tracks\"][\"items\"][0][\"artists\"]:\n",
    "    print(artist[\"name\"])"
   ]
  },
  {
   "cell_type": "code",
   "execution_count": 17,
   "id": "6a826e9c-d2e7-4537-a82c-3dc3a2b80b9f",
   "metadata": {},
   "outputs": [
    {
     "data": {
      "text/plain": [
       "'7Bg90Jhm3Dhtu7m2YCpo6C'"
      ]
     },
     "execution_count": 17,
     "metadata": {},
     "output_type": "execute_result"
    }
   ],
   "source": [
    "# Track ID\n",
    "results_V[\"tracks\"][\"items\"][0][\"id\"] "
   ]
  },
  {
   "cell_type": "code",
   "execution_count": 18,
   "id": "a5bd871b-6087-4680-819c-1a1d8ba879bc",
   "metadata": {},
   "outputs": [
    {
     "data": {
      "text/plain": [
       "'Children - Radio Edit'"
      ]
     },
     "execution_count": 18,
     "metadata": {},
     "output_type": "execute_result"
    }
   ],
   "source": [
    "# Track name\n",
    "results_V[\"tracks\"][\"items\"][0][\"name\"]"
   ]
  },
  {
   "cell_type": "code",
   "execution_count": 19,
   "id": "812661f1-29db-452f-a719-cdfbe95ba9f6",
   "metadata": {},
   "outputs": [
    {
     "data": {
      "text/plain": [
       "59"
      ]
     },
     "execution_count": 19,
     "metadata": {},
     "output_type": "execute_result"
    }
   ],
   "source": [
    "# Popularity index\n",
    "results_V[\"tracks\"][\"items\"][0][\"popularity\"] "
   ]
  },
  {
   "cell_type": "markdown",
   "id": "0e81c762-e6c5-424e-a4eb-12ab45dffb9f",
   "metadata": {},
   "source": [
    "Spotify songs are identified by either a \"url\", a \"uri\", or an \"id\". \n",
    "\n",
    "- The `id` is an alphanumeric code, and it's the nuclear part of the identifier.\n",
    "\n",
    "- The `uri` contains \"spotify:track\" before the id. An uri is useful because it can be searched manually in the Spotify app.\n",
    "\n",
    "- The `url` is a link to the song on the Spotify web player.\n"
   ]
  },
  {
   "cell_type": "code",
   "execution_count": 21,
   "id": "8bcdccfc-dde9-4f4b-8af5-3caa335b89b5",
   "metadata": {},
   "outputs": [
    {
     "data": {
      "text/plain": [
       "'spotify:track:7Bg90Jhm3Dhtu7m2YCpo6C'"
      ]
     },
     "execution_count": 21,
     "metadata": {},
     "output_type": "execute_result"
    }
   ],
   "source": [
    "results_V[\"tracks\"][\"items\"][0][\"uri\"]"
   ]
  },
  {
   "cell_type": "markdown",
   "id": "71c3c9c1-4ec2-42bf-a243-b21105ae1699",
   "metadata": {},
   "source": [
    "## Exercise 1: Discovering New Music through Your Favorite Artists\n",
    "\n",
    "**Objective:** \n",
    "Uncover new music by exploring the top tracks of your favorite artists and their related artists.\n",
    "\n",
    "**Instructions:**\n",
    "\n",
    "1. **List Your Favorite Artists**:\n",
    "    - Make a list of your three favorite artists and store it in a variable named `artists`.\n",
    "    - Example: `artists = [\"Los Fabulosos Cadillacs\", \"Manu Chao\", \"Muchachito Bombo Infierno\"]`.\n",
    "\n",
    "2. **Fetch Top Tracks**:\n",
    "    - Write a function named `get_top_tracks`.\n",
    "    - This function should accept an artist's name and return the name of the first 5 top tracks by that artist.\n",
    "    - Use the function `get_top_tracks` to get the first 5 top tracks for each artist in your `artists` list and store the results in a new list named `top_tracks_list`.\n",
    "\n",
    "3. **Discover Related Artists**:\n",
    "    - Write a function named `find_related_artists`.\n",
    "    - This function should accept an artist's name and return the names of the first 5 artists related to the provided artist.\n",
    "    - Store the results in a list named `related_artists_list`.\n",
    "\n",
    "**Challenge:** \n",
    "Combine the above steps to create a playlist that includes the top tracks of your favorite artists and the top tracks of the artists related to them."
   ]
  },
  {
   "cell_type": "code",
   "execution_count": 40,
   "id": "a306ade8",
   "metadata": {},
   "outputs": [],
   "source": [
    "artists = [\"Deborah de Luca\", \"Willie Colón\", \"Yann Tiersen\"]"
   ]
  },
  {
   "cell_type": "code",
   "execution_count": 50,
   "id": "a3a62b99",
   "metadata": {},
   "outputs": [],
   "source": [
    "for artist in artist:\n",
    "    \n",
    "    top_tracks_list = []\n",
    "    results_V = sp.search( q=artist , limit = 5)\n",
    "\n",
    "    for i in range(5):\n",
    "        song_name = results_V[\"tracks\"][\"items\"][i][\"name\"]\n",
    "        top_tracks_list.append(song_name)\n",
    "    "
   ]
  },
  {
   "cell_type": "code",
   "execution_count": 53,
   "id": "636629cb",
   "metadata": {},
   "outputs": [],
   "source": [
    "def get_top_tracks(name):\n",
    "    \n",
    "    top_tracks = []\n",
    "    results_V = sp.search( q = name , limit = 5)\n",
    "\n",
    "    for i in range(5):\n",
    "        song_name = results_V[\"tracks\"][\"items\"][i][\"name\"]\n",
    "        top_tracks.append(song_name)\n",
    "    \n",
    "    return top_tracks"
   ]
  },
  {
   "cell_type": "code",
   "execution_count": 54,
   "id": "f9abdf9c",
   "metadata": {},
   "outputs": [
    {
     "data": {
      "text/plain": [
       "['Oh Qué Será?',\n",
       " 'Talento De Televisión',\n",
       " 'El Día De Mi Suerte',\n",
       " 'Idilio',\n",
       " 'Pedro Navaja']"
      ]
     },
     "execution_count": 54,
     "metadata": {},
     "output_type": "execute_result"
    }
   ],
   "source": [
    "get_top_tracks(\"Willie Colón\")"
   ]
  },
  {
   "cell_type": "code",
   "execution_count": 55,
   "id": "108e304f",
   "metadata": {
    "scrolled": true
   },
   "outputs": [],
   "source": [
    "top_tracks_list_2 = list( map(get_top_tracks, artists) )"
   ]
  },
  {
   "cell_type": "code",
   "execution_count": 56,
   "id": "ea9862f2",
   "metadata": {
    "scrolled": true
   },
   "outputs": [
    {
     "data": {
      "text/plain": [
       "[['Children - Radio Edit',\n",
       "  'Croce',\n",
       "  'Devotion - Show Me Love 2023 Techno Mix - Radio Edit',\n",
       "  \"You're Toxic\",\n",
       "  'Gam Gam - 2023'],\n",
       " ['Oh Qué Será?',\n",
       "  'Talento De Televisión',\n",
       "  'El Día De Mi Suerte',\n",
       "  'Idilio',\n",
       "  'Pedro Navaja'],\n",
       " [\"Comptine d'un autre été, l'après-midi\",\n",
       "  \"La Valse d'Amélie - Version piano\",\n",
       "  'Le Matin',\n",
       "  \"I've Never Been There\",\n",
       "  \"La valse d'Amélie\"]]"
      ]
     },
     "execution_count": 56,
     "metadata": {},
     "output_type": "execute_result"
    }
   ],
   "source": [
    "top_tracks_list_2"
   ]
  },
  {
   "cell_type": "code",
   "execution_count": 67,
   "id": "f6b00c60",
   "metadata": {},
   "outputs": [
    {
     "data": {
      "text/plain": [
       "['Deborah de Luca', 'Willie Colón', 'Yann Tiersen']"
      ]
     },
     "execution_count": 67,
     "metadata": {},
     "output_type": "execute_result"
    }
   ],
   "source": [
    "artists"
   ]
  },
  {
   "cell_type": "code",
   "execution_count": 73,
   "id": "e55db7c9",
   "metadata": {},
   "outputs": [
    {
     "data": {
      "text/plain": [
       "{'Deborah de Luca': ['Children - Radio Edit',\n",
       "  'Croce',\n",
       "  'Devotion - Show Me Love 2023 Techno Mix - Radio Edit',\n",
       "  \"You're Toxic\",\n",
       "  'Gam Gam - 2023'],\n",
       " 'Willie Colón': ['Oh Qué Será?',\n",
       "  'Talento De Televisión',\n",
       "  'El Día De Mi Suerte',\n",
       "  'Idilio',\n",
       "  'Pedro Navaja'],\n",
       " 'Yann Tiersen': [\"Comptine d'un autre été, l'après-midi\",\n",
       "  \"La Valse d'Amélie - Version piano\",\n",
       "  'Le Matin',\n",
       "  \"I've Never Been There\",\n",
       "  \"La valse d'Amélie\"]}"
      ]
     },
     "execution_count": 73,
     "metadata": {},
     "output_type": "execute_result"
    }
   ],
   "source": [
    "diccionario = dict(zip(artists, top_tracks_list_2))\n",
    "diccionario"
   ]
  },
  {
   "cell_type": "markdown",
   "id": "0c442378-e26f-47c8-b4f1-b4fa07089935",
   "metadata": {},
   "source": [
    "**Hint Section for 3. **Discover Related Artists**:**\n",
    "\n",
    "1. **Getting Artist ID**:\n",
    "    - Remember that every artist on Spotify has a unique identifier: their `id`. To get the related artists, you first need to fetch the ID of the given artist.\n",
    "    - Consider using the `sp.search` method to query the artist's name. The method requires a `q` parameter, which is your query (in this case, the artist's name). It also has a `limit` parameter, which specifies the number of tracks it returns. In this case, 1 track is enough, since we just want the artist ID. \n",
    "    - Each track in the results has an associated 'artists' field. This field is a list containing details about all artists involved in that track.\n",
    "   - For most tracks, especially those by a single artist, this list will contain one artist. From this artist's details, you can extract the 'id' field, which is the unique identifier for that artist on Spotify.\n",
    "\n",
    "\n",
    "3. **Fetching Related Artists**:\n",
    "    - Once you have the artist's ID, you can use another SpotiPy method to fetch related artists. Think about which SpotiPy method allows you to get related artists using an artist's ID. Here is the documentation link: https://spotipy.readthedocs.io/en/2.22.1/. \n",
    "    - This method will return a list of related artists. You'll need to extract the relevant details (artist names) from this list.\n",
    "\n",
    "4. **Iterating for Multiple Artists**:\n",
    "    - Once you have a function that returns related artists names for one artist, you can use a list comprehension to apply this function to a list of artist names.\n",
    "\n",
    "5. **Testing**:\n",
    "    - Always test your function with one artist name first. Once you're confident it works, then apply it to the entire list.\n",
    "\n",
    "Remember, the key is to break the problem down into manageable steps. Use the SpotiPy documentation as a resource to understand available methods and their return structures."
   ]
  },
  {
   "cell_type": "code",
   "execution_count": null,
   "id": "f78cace8",
   "metadata": {},
   "outputs": [],
   "source": [
    "def spotify_searcher(query):\n",
    "    \n",
    "    return some_info"
   ]
  },
  {
   "cell_type": "code",
   "execution_count": null,
   "id": "29694252-f217-454d-8881-681b2b6eeb1e",
   "metadata": {},
   "outputs": [],
   "source": [
    "# Your answer here"
   ]
  },
  {
   "cell_type": "markdown",
   "id": "94ad5fdc-22e5-4521-8aa1-c6833eb7e949",
   "metadata": {},
   "source": [
    "## Playlists\n",
    "\n",
    "The `sp.featured_playlists()` method in `spotipy` fetches a list of Spotify's featured playlists at a given moment. These are curated playlists that Spotify often highlights on the platform's homepage. The method provides a snapshot of the playlists that are being promoted or featured by Spotify at the time of the request.\n",
    "\n",
    "Once you've fetched the featured playlists, you can extract their IDs (and other details)."
   ]
  },
  {
   "cell_type": "code",
   "execution_count": null,
   "id": "25fb0cf8-c13a-41b0-b8f8-7e0700fd1e41",
   "metadata": {},
   "outputs": [],
   "source": [
    "sp.featured_playlists() # We get a playlist id of a playlist we like"
   ]
  },
  {
   "cell_type": "markdown",
   "id": "90f558f3-c638-4df4-b5a4-e24f7847d52a",
   "metadata": {},
   "source": [
    "### Getting a Playlist's Details\n",
    "To fetch details about a specific playlist, you can use the playlist method. You'll need the playlist's Spotify ID."
   ]
  },
  {
   "cell_type": "markdown",
   "id": "0eef529f-617f-4ea3-8156-07472ac8e6d5",
   "metadata": {},
   "source": [
    "In this example, we will use the following playlist id: *37i9dQZF1DXd9zR7tdziuQ*"
   ]
  },
  {
   "cell_type": "code",
   "execution_count": null,
   "id": "46d35121-9256-4cf4-81f5-118b87f7af32",
   "metadata": {},
   "outputs": [],
   "source": [
    "playlist_id = \"37i9dQZF1DXd9zR7tdziuQ\"\n",
    "playlist = sp.playlist(playlist_id)"
   ]
  },
  {
   "cell_type": "code",
   "execution_count": null,
   "id": "5260f67f-6024-4fee-8449-30904f03bf76",
   "metadata": {},
   "outputs": [],
   "source": [
    "print(playlist['name'])  # Print the playlist's name\n",
    "print(playlist['description'])  # Print the playlist's description"
   ]
  },
  {
   "cell_type": "markdown",
   "id": "13bc8631-69f0-4b98-9cc9-5baecbaea9ba",
   "metadata": {},
   "source": [
    "### Getting Tracks from a Playlist\n",
    "If you want to get the tracks from a specific playlist, you can use the playlist_tracks method."
   ]
  },
  {
   "cell_type": "code",
   "execution_count": null,
   "id": "69c78f8d-7e6a-4d15-bcbb-fc93edb82433",
   "metadata": {},
   "outputs": [],
   "source": [
    "tracks = sp.playlist_tracks(playlist_id)\n",
    "for track in tracks['items']:\n",
    "    print(track['track']['name'])  # Print each track's name"
   ]
  },
  {
   "cell_type": "markdown",
   "id": "2775714d-acc7-4555-96bd-2c541ab0855e",
   "metadata": {},
   "source": [
    "### Getting Artists from a Playlist\n",
    "\n",
    "To extract all the artists from the tracks in a playlist, you'd typically follow these steps:\n",
    "\n",
    "1. Fetch the playlist's tracks.\n",
    "2. Iterate through each track.\n",
    "3. For each track, extract the associated artists."
   ]
  },
  {
   "cell_type": "code",
   "execution_count": null,
   "id": "65c5e5c4-f186-42c6-b136-4ef02b0b01ff",
   "metadata": {},
   "outputs": [],
   "source": [
    "# List to store unique artist names\n",
    "artists_list = []\n",
    "\n",
    "for track_item in tracks['items']:\n",
    "    track = track_item['track']\n",
    "    for artist in track['artists']:\n",
    "        artist_name = artist['name']\n",
    "        if artist_name not in artists_list:  # This ensures each artist is added only once\n",
    "            artists_list.append(artist_name)\n",
    "\n",
    "print(artists_list)"
   ]
  },
  {
   "cell_type": "markdown",
   "id": "7b52207e-a4f0-4f90-9f4e-3170d7f0f3fe",
   "metadata": {},
   "source": [
    "## Exercise 2: Unraveling the World of Playlists\n",
    "\n",
    "\n",
    "1. **Featured Exploration**: \n",
    "   - Fetch the list of Spotify's current featured playlists. \n",
    "   - Extract and display the names and IDs of the top 5 featured playlists.\n",
    "   \n",
    "2. **Deep Dive**:\n",
    "   - Choose any one of the top 5 featured playlists (you can choose the one you personally find most interesting or simply pick one randomly).\n",
    "   - Fetch and display its name, description, and total track count.\n",
    "\n",
    "3. **Track-tastic**:\n",
    "   - Extract and display the names of the first 10 tracks in the chosen playlist.\n",
    "\n",
    "4. **Artistic Flair**:\n",
    "   - Create a dictionary where the keys are the names of the first 10 tracks, and the values are lists containing the names of the artists associated with each track.\n",
    "   - For example: `{\"TrackName1\": [\"Artist1\", \"Artist2\"], \"TrackName2\": [\"Artist3\"]}`\n",
    "   "
   ]
  },
  {
   "cell_type": "code",
   "execution_count": null,
   "id": "ed92d961-9646-4375-a386-ccc320a958f5",
   "metadata": {},
   "outputs": [],
   "source": [
    "# Your answer here"
   ]
  }
 ],
 "metadata": {
  "kernelspec": {
   "display_name": "Python 3 (ipykernel)",
   "language": "python",
   "name": "python3"
  },
  "language_info": {
   "codemirror_mode": {
    "name": "ipython",
    "version": 3
   },
   "file_extension": ".py",
   "mimetype": "text/x-python",
   "name": "python",
   "nbconvert_exporter": "python",
   "pygments_lexer": "ipython3",
   "version": "3.11.7"
  }
 },
 "nbformat": 4,
 "nbformat_minor": 5
}
